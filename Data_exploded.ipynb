{
  "cells": [
    {
      "cell_type": "code",
      "execution_count": 2,
      "metadata": {
        "id": "-VnVue3KnVo7"
      },
      "outputs": [],
      "source": [
        "import pandas as pd\n"
      ]
    },
    {
      "cell_type": "code",
      "execution_count": 4,
      "metadata": {
        "id": "bo43Bp8PoUcF"
      },
      "outputs": [],
      "source": [
        "df = pd.read_csv('/Users/brunamedeiros/Documents/GitHub/Amazon-Multimodal-Chatbot/data.csv')\n"
      ]
    },
    {
      "cell_type": "code",
      "execution_count": 5,
      "metadata": {
        "id": "X7jkUe1huXBm"
      },
      "outputs": [],
      "source": [
        "#from Bruna\n",
        "columns_to_keep = ['Uniq Id', 'Product Name', 'Category', 'Upc Ean Code', 'Selling Price', 'Model Number',\n",
        "                   'About Product', 'Product Specification', 'Technical Details', 'Shipping Weight',\n",
        "                   'Product Dimensions', 'Image', 'Variants', 'Product Url', 'Is Amazon Seller']\n",
        "df = df[columns_to_keep].copy()"
      ]
    },
    {
      "cell_type": "code",
      "execution_count": 6,
      "metadata": {
        "id": "mL1DfUO5YAVT"
      },
      "outputs": [],
      "source": [
        "exploded_df = df.assign(Image=df['Image'].str.split('|')).explode('Image')"
      ]
    },
    {
      "cell_type": "code",
      "execution_count": 7,
      "metadata": {
        "colab": {
          "base_uri": "https://localhost:8080/",
          "height": 781
        },
        "id": "20oIYEScYCBk",
        "outputId": "17995c83-af0b-40ac-e346-a47e4ec28132"
      },
      "outputs": [
        {
          "data": {
            "text/html": [
              "<div>\n",
              "<style scoped>\n",
              "    .dataframe tbody tr th:only-of-type {\n",
              "        vertical-align: middle;\n",
              "    }\n",
              "\n",
              "    .dataframe tbody tr th {\n",
              "        vertical-align: top;\n",
              "    }\n",
              "\n",
              "    .dataframe thead th {\n",
              "        text-align: right;\n",
              "    }\n",
              "</style>\n",
              "<table border=\"1\" class=\"dataframe\">\n",
              "  <thead>\n",
              "    <tr style=\"text-align: right;\">\n",
              "      <th></th>\n",
              "      <th>Uniq Id</th>\n",
              "      <th>Product Name</th>\n",
              "      <th>Category</th>\n",
              "      <th>Upc Ean Code</th>\n",
              "      <th>Selling Price</th>\n",
              "      <th>Model Number</th>\n",
              "      <th>About Product</th>\n",
              "      <th>Product Specification</th>\n",
              "      <th>Technical Details</th>\n",
              "      <th>Shipping Weight</th>\n",
              "      <th>Product Dimensions</th>\n",
              "      <th>Image</th>\n",
              "      <th>Variants</th>\n",
              "      <th>Product Url</th>\n",
              "      <th>Is Amazon Seller</th>\n",
              "    </tr>\n",
              "  </thead>\n",
              "  <tbody>\n",
              "    <tr>\n",
              "      <th>0</th>\n",
              "      <td>4c69b61db1fc16e7013b43fc926e502d</td>\n",
              "      <td>DB Longboards CoreFlex Crossbow 41\" Bamboo Fib...</td>\n",
              "      <td>Sports &amp; Outdoors | Outdoor Recreation | Skate...</td>\n",
              "      <td>NaN</td>\n",
              "      <td>$237.68</td>\n",
              "      <td>NaN</td>\n",
              "      <td>Make sure this fits by entering your model num...</td>\n",
              "      <td>Shipping Weight: 10.7 pounds (View shipping ra...</td>\n",
              "      <td>NaN</td>\n",
              "      <td>10.7 pounds</td>\n",
              "      <td>NaN</td>\n",
              "      <td>https://images-na.ssl-images-amazon.com/images...</td>\n",
              "      <td>https://www.amazon.com/DB-Longboards-CoreFlex-...</td>\n",
              "      <td>https://www.amazon.com/DB-Longboards-CoreFlex-...</td>\n",
              "      <td>Y</td>\n",
              "    </tr>\n",
              "    <tr>\n",
              "      <th>0</th>\n",
              "      <td>4c69b61db1fc16e7013b43fc926e502d</td>\n",
              "      <td>DB Longboards CoreFlex Crossbow 41\" Bamboo Fib...</td>\n",
              "      <td>Sports &amp; Outdoors | Outdoor Recreation | Skate...</td>\n",
              "      <td>NaN</td>\n",
              "      <td>$237.68</td>\n",
              "      <td>NaN</td>\n",
              "      <td>Make sure this fits by entering your model num...</td>\n",
              "      <td>Shipping Weight: 10.7 pounds (View shipping ra...</td>\n",
              "      <td>NaN</td>\n",
              "      <td>10.7 pounds</td>\n",
              "      <td>NaN</td>\n",
              "      <td>https://images-na.ssl-images-amazon.com/images...</td>\n",
              "      <td>https://www.amazon.com/DB-Longboards-CoreFlex-...</td>\n",
              "      <td>https://www.amazon.com/DB-Longboards-CoreFlex-...</td>\n",
              "      <td>Y</td>\n",
              "    </tr>\n",
              "    <tr>\n",
              "      <th>0</th>\n",
              "      <td>4c69b61db1fc16e7013b43fc926e502d</td>\n",
              "      <td>DB Longboards CoreFlex Crossbow 41\" Bamboo Fib...</td>\n",
              "      <td>Sports &amp; Outdoors | Outdoor Recreation | Skate...</td>\n",
              "      <td>NaN</td>\n",
              "      <td>$237.68</td>\n",
              "      <td>NaN</td>\n",
              "      <td>Make sure this fits by entering your model num...</td>\n",
              "      <td>Shipping Weight: 10.7 pounds (View shipping ra...</td>\n",
              "      <td>NaN</td>\n",
              "      <td>10.7 pounds</td>\n",
              "      <td>NaN</td>\n",
              "      <td>https://images-na.ssl-images-amazon.com/images...</td>\n",
              "      <td>https://www.amazon.com/DB-Longboards-CoreFlex-...</td>\n",
              "      <td>https://www.amazon.com/DB-Longboards-CoreFlex-...</td>\n",
              "      <td>Y</td>\n",
              "    </tr>\n",
              "    <tr>\n",
              "      <th>0</th>\n",
              "      <td>4c69b61db1fc16e7013b43fc926e502d</td>\n",
              "      <td>DB Longboards CoreFlex Crossbow 41\" Bamboo Fib...</td>\n",
              "      <td>Sports &amp; Outdoors | Outdoor Recreation | Skate...</td>\n",
              "      <td>NaN</td>\n",
              "      <td>$237.68</td>\n",
              "      <td>NaN</td>\n",
              "      <td>Make sure this fits by entering your model num...</td>\n",
              "      <td>Shipping Weight: 10.7 pounds (View shipping ra...</td>\n",
              "      <td>NaN</td>\n",
              "      <td>10.7 pounds</td>\n",
              "      <td>NaN</td>\n",
              "      <td>https://images-na.ssl-images-amazon.com/images...</td>\n",
              "      <td>https://www.amazon.com/DB-Longboards-CoreFlex-...</td>\n",
              "      <td>https://www.amazon.com/DB-Longboards-CoreFlex-...</td>\n",
              "      <td>Y</td>\n",
              "    </tr>\n",
              "    <tr>\n",
              "      <th>0</th>\n",
              "      <td>4c69b61db1fc16e7013b43fc926e502d</td>\n",
              "      <td>DB Longboards CoreFlex Crossbow 41\" Bamboo Fib...</td>\n",
              "      <td>Sports &amp; Outdoors | Outdoor Recreation | Skate...</td>\n",
              "      <td>NaN</td>\n",
              "      <td>$237.68</td>\n",
              "      <td>NaN</td>\n",
              "      <td>Make sure this fits by entering your model num...</td>\n",
              "      <td>Shipping Weight: 10.7 pounds (View shipping ra...</td>\n",
              "      <td>NaN</td>\n",
              "      <td>10.7 pounds</td>\n",
              "      <td>NaN</td>\n",
              "      <td>https://images-na.ssl-images-amazon.com/images...</td>\n",
              "      <td>https://www.amazon.com/DB-Longboards-CoreFlex-...</td>\n",
              "      <td>https://www.amazon.com/DB-Longboards-CoreFlex-...</td>\n",
              "      <td>Y</td>\n",
              "    </tr>\n",
              "  </tbody>\n",
              "</table>\n",
              "</div>"
            ],
            "text/plain": [
              "                            Uniq Id  \\\n",
              "0  4c69b61db1fc16e7013b43fc926e502d   \n",
              "0  4c69b61db1fc16e7013b43fc926e502d   \n",
              "0  4c69b61db1fc16e7013b43fc926e502d   \n",
              "0  4c69b61db1fc16e7013b43fc926e502d   \n",
              "0  4c69b61db1fc16e7013b43fc926e502d   \n",
              "\n",
              "                                        Product Name  \\\n",
              "0  DB Longboards CoreFlex Crossbow 41\" Bamboo Fib...   \n",
              "0  DB Longboards CoreFlex Crossbow 41\" Bamboo Fib...   \n",
              "0  DB Longboards CoreFlex Crossbow 41\" Bamboo Fib...   \n",
              "0  DB Longboards CoreFlex Crossbow 41\" Bamboo Fib...   \n",
              "0  DB Longboards CoreFlex Crossbow 41\" Bamboo Fib...   \n",
              "\n",
              "                                            Category Upc Ean Code  \\\n",
              "0  Sports & Outdoors | Outdoor Recreation | Skate...          NaN   \n",
              "0  Sports & Outdoors | Outdoor Recreation | Skate...          NaN   \n",
              "0  Sports & Outdoors | Outdoor Recreation | Skate...          NaN   \n",
              "0  Sports & Outdoors | Outdoor Recreation | Skate...          NaN   \n",
              "0  Sports & Outdoors | Outdoor Recreation | Skate...          NaN   \n",
              "\n",
              "  Selling Price Model Number  \\\n",
              "0       $237.68          NaN   \n",
              "0       $237.68          NaN   \n",
              "0       $237.68          NaN   \n",
              "0       $237.68          NaN   \n",
              "0       $237.68          NaN   \n",
              "\n",
              "                                       About Product  \\\n",
              "0  Make sure this fits by entering your model num...   \n",
              "0  Make sure this fits by entering your model num...   \n",
              "0  Make sure this fits by entering your model num...   \n",
              "0  Make sure this fits by entering your model num...   \n",
              "0  Make sure this fits by entering your model num...   \n",
              "\n",
              "                               Product Specification Technical Details  \\\n",
              "0  Shipping Weight: 10.7 pounds (View shipping ra...               NaN   \n",
              "0  Shipping Weight: 10.7 pounds (View shipping ra...               NaN   \n",
              "0  Shipping Weight: 10.7 pounds (View shipping ra...               NaN   \n",
              "0  Shipping Weight: 10.7 pounds (View shipping ra...               NaN   \n",
              "0  Shipping Weight: 10.7 pounds (View shipping ra...               NaN   \n",
              "\n",
              "  Shipping Weight Product Dimensions  \\\n",
              "0     10.7 pounds                NaN   \n",
              "0     10.7 pounds                NaN   \n",
              "0     10.7 pounds                NaN   \n",
              "0     10.7 pounds                NaN   \n",
              "0     10.7 pounds                NaN   \n",
              "\n",
              "                                               Image  \\\n",
              "0  https://images-na.ssl-images-amazon.com/images...   \n",
              "0  https://images-na.ssl-images-amazon.com/images...   \n",
              "0  https://images-na.ssl-images-amazon.com/images...   \n",
              "0  https://images-na.ssl-images-amazon.com/images...   \n",
              "0  https://images-na.ssl-images-amazon.com/images...   \n",
              "\n",
              "                                            Variants  \\\n",
              "0  https://www.amazon.com/DB-Longboards-CoreFlex-...   \n",
              "0  https://www.amazon.com/DB-Longboards-CoreFlex-...   \n",
              "0  https://www.amazon.com/DB-Longboards-CoreFlex-...   \n",
              "0  https://www.amazon.com/DB-Longboards-CoreFlex-...   \n",
              "0  https://www.amazon.com/DB-Longboards-CoreFlex-...   \n",
              "\n",
              "                                         Product Url Is Amazon Seller  \n",
              "0  https://www.amazon.com/DB-Longboards-CoreFlex-...                Y  \n",
              "0  https://www.amazon.com/DB-Longboards-CoreFlex-...                Y  \n",
              "0  https://www.amazon.com/DB-Longboards-CoreFlex-...                Y  \n",
              "0  https://www.amazon.com/DB-Longboards-CoreFlex-...                Y  \n",
              "0  https://www.amazon.com/DB-Longboards-CoreFlex-...                Y  "
            ]
          },
          "execution_count": 7,
          "metadata": {},
          "output_type": "execute_result"
        }
      ],
      "source": [
        "exploded_df.head()"
      ]
    },
    {
      "cell_type": "code",
      "execution_count": 8,
      "metadata": {
        "id": "qkNPb3zpYVdJ"
      },
      "outputs": [],
      "source": [
        "exploded_df.fillna('', inplace=True)"
      ]
    },
    {
      "cell_type": "code",
      "execution_count": 9,
      "metadata": {},
      "outputs": [
        {
          "data": {
            "text/plain": [
              "(43870, 15)"
            ]
          },
          "execution_count": 9,
          "metadata": {},
          "output_type": "execute_result"
        }
      ],
      "source": [
        "exploded_df.shape"
      ]
    },
    {
      "cell_type": "code",
      "execution_count": 10,
      "metadata": {},
      "outputs": [],
      "source": [
        "exploded_df.to_csv('exploded_df.csv', index=False)"
      ]
    },
    {
      "cell_type": "code",
      "execution_count": null,
      "metadata": {},
      "outputs": [],
      "source": []
    }
  ],
  "metadata": {
    "colab": {
      "provenance": []
    },
    "kernelspec": {
      "display_name": "base",
      "language": "python",
      "name": "python3"
    },
    "language_info": {
      "codemirror_mode": {
        "name": "ipython",
        "version": 3
      },
      "file_extension": ".py",
      "mimetype": "text/x-python",
      "name": "python",
      "nbconvert_exporter": "python",
      "pygments_lexer": "ipython3",
      "version": "3.12.2"
    }
  },
  "nbformat": 4,
  "nbformat_minor": 0
}
